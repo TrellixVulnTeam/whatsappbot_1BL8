{
  "nbformat": 4,
  "nbformat_minor": 0,
  "metadata": {
    "colab": {
      "name": "News Bot.ipynb",
      "provenance": [],
      "authorship_tag": "ABX9TyOUerzvy20b+kbKwXlirnOE"
    },
    "kernelspec": {
      "name": "python3",
      "display_name": "Python 3"
    }
  },
  "cells": [
    {
      "cell_type": "code",
      "metadata": {
        "id": "_csPbZvZUZEF",
        "outputId": "dff18a8a-3f59-4a75-bd2e-c22fd77c9fa7",
        "colab": {
          "base_uri": "https://localhost:8080/"
        }
      },
      "source": [
        "!pip install selenium\n",
        "!pip install chatterbot\n",
        "!pip install chatterbot_corpus"
      ],
      "execution_count": 1,
      "outputs": [
        {
          "output_type": "stream",
          "text": [
            "Collecting selenium\n",
            "\u001b[?25l  Downloading https://files.pythonhosted.org/packages/80/d6/4294f0b4bce4de0abf13e17190289f9d0613b0a44e5dd6a7f5ca98459853/selenium-3.141.0-py2.py3-none-any.whl (904kB)\n",
            "\r\u001b[K     |▍                               | 10kB 16.3MB/s eta 0:00:01\r\u001b[K     |▊                               | 20kB 3.2MB/s eta 0:00:01\r\u001b[K     |█                               | 30kB 3.8MB/s eta 0:00:01\r\u001b[K     |█▌                              | 40kB 3.8MB/s eta 0:00:01\r\u001b[K     |█▉                              | 51kB 3.9MB/s eta 0:00:01\r\u001b[K     |██▏                             | 61kB 4.1MB/s eta 0:00:01\r\u001b[K     |██▌                             | 71kB 4.6MB/s eta 0:00:01\r\u001b[K     |███                             | 81kB 5.1MB/s eta 0:00:01\r\u001b[K     |███▎                            | 92kB 5.1MB/s eta 0:00:01\r\u001b[K     |███▋                            | 102kB 5.0MB/s eta 0:00:01\r\u001b[K     |████                            | 112kB 5.0MB/s eta 0:00:01\r\u001b[K     |████▍                           | 122kB 5.0MB/s eta 0:00:01\r\u001b[K     |████▊                           | 133kB 5.0MB/s eta 0:00:01\r\u001b[K     |█████                           | 143kB 5.0MB/s eta 0:00:01\r\u001b[K     |█████▍                          | 153kB 5.0MB/s eta 0:00:01\r\u001b[K     |█████▉                          | 163kB 5.0MB/s eta 0:00:01\r\u001b[K     |██████▏                         | 174kB 5.0MB/s eta 0:00:01\r\u001b[K     |██████▌                         | 184kB 5.0MB/s eta 0:00:01\r\u001b[K     |██████▉                         | 194kB 5.0MB/s eta 0:00:01\r\u001b[K     |███████▎                        | 204kB 5.0MB/s eta 0:00:01\r\u001b[K     |███████▋                        | 215kB 5.0MB/s eta 0:00:01\r\u001b[K     |████████                        | 225kB 5.0MB/s eta 0:00:01\r\u001b[K     |████████▎                       | 235kB 5.0MB/s eta 0:00:01\r\u001b[K     |████████▊                       | 245kB 5.0MB/s eta 0:00:01\r\u001b[K     |█████████                       | 256kB 5.0MB/s eta 0:00:01\r\u001b[K     |█████████▍                      | 266kB 5.0MB/s eta 0:00:01\r\u001b[K     |█████████▉                      | 276kB 5.0MB/s eta 0:00:01\r\u001b[K     |██████████▏                     | 286kB 5.0MB/s eta 0:00:01\r\u001b[K     |██████████▌                     | 296kB 5.0MB/s eta 0:00:01\r\u001b[K     |██████████▉                     | 307kB 5.0MB/s eta 0:00:01\r\u001b[K     |███████████▎                    | 317kB 5.0MB/s eta 0:00:01\r\u001b[K     |███████████▋                    | 327kB 5.0MB/s eta 0:00:01\r\u001b[K     |████████████                    | 337kB 5.0MB/s eta 0:00:01\r\u001b[K     |████████████▎                   | 348kB 5.0MB/s eta 0:00:01\r\u001b[K     |████████████▊                   | 358kB 5.0MB/s eta 0:00:01\r\u001b[K     |█████████████                   | 368kB 5.0MB/s eta 0:00:01\r\u001b[K     |█████████████▍                  | 378kB 5.0MB/s eta 0:00:01\r\u001b[K     |█████████████▊                  | 389kB 5.0MB/s eta 0:00:01\r\u001b[K     |██████████████▏                 | 399kB 5.0MB/s eta 0:00:01\r\u001b[K     |██████████████▌                 | 409kB 5.0MB/s eta 0:00:01\r\u001b[K     |██████████████▉                 | 419kB 5.0MB/s eta 0:00:01\r\u001b[K     |███████████████▏                | 430kB 5.0MB/s eta 0:00:01\r\u001b[K     |███████████████▋                | 440kB 5.0MB/s eta 0:00:01\r\u001b[K     |████████████████                | 450kB 5.0MB/s eta 0:00:01\r\u001b[K     |████████████████▎               | 460kB 5.0MB/s eta 0:00:01\r\u001b[K     |████████████████▋               | 471kB 5.0MB/s eta 0:00:01\r\u001b[K     |█████████████████               | 481kB 5.0MB/s eta 0:00:01\r\u001b[K     |█████████████████▍              | 491kB 5.0MB/s eta 0:00:01\r\u001b[K     |█████████████████▊              | 501kB 5.0MB/s eta 0:00:01\r\u001b[K     |██████████████████▏             | 512kB 5.0MB/s eta 0:00:01\r\u001b[K     |██████████████████▌             | 522kB 5.0MB/s eta 0:00:01\r\u001b[K     |██████████████████▉             | 532kB 5.0MB/s eta 0:00:01\r\u001b[K     |███████████████████▏            | 542kB 5.0MB/s eta 0:00:01\r\u001b[K     |███████████████████▋            | 552kB 5.0MB/s eta 0:00:01\r\u001b[K     |████████████████████            | 563kB 5.0MB/s eta 0:00:01\r\u001b[K     |████████████████████▎           | 573kB 5.0MB/s eta 0:00:01\r\u001b[K     |████████████████████▋           | 583kB 5.0MB/s eta 0:00:01\r\u001b[K     |█████████████████████           | 593kB 5.0MB/s eta 0:00:01\r\u001b[K     |█████████████████████▍          | 604kB 5.0MB/s eta 0:00:01\r\u001b[K     |█████████████████████▊          | 614kB 5.0MB/s eta 0:00:01\r\u001b[K     |██████████████████████          | 624kB 5.0MB/s eta 0:00:01\r\u001b[K     |██████████████████████▌         | 634kB 5.0MB/s eta 0:00:01\r\u001b[K     |██████████████████████▉         | 645kB 5.0MB/s eta 0:00:01\r\u001b[K     |███████████████████████▏        | 655kB 5.0MB/s eta 0:00:01\r\u001b[K     |███████████████████████▌        | 665kB 5.0MB/s eta 0:00:01\r\u001b[K     |████████████████████████        | 675kB 5.0MB/s eta 0:00:01\r\u001b[K     |████████████████████████▎       | 686kB 5.0MB/s eta 0:00:01\r\u001b[K     |████████████████████████▋       | 696kB 5.0MB/s eta 0:00:01\r\u001b[K     |█████████████████████████       | 706kB 5.0MB/s eta 0:00:01\r\u001b[K     |█████████████████████████▍      | 716kB 5.0MB/s eta 0:00:01\r\u001b[K     |█████████████████████████▊      | 727kB 5.0MB/s eta 0:00:01\r\u001b[K     |██████████████████████████      | 737kB 5.0MB/s eta 0:00:01\r\u001b[K     |██████████████████████████▍     | 747kB 5.0MB/s eta 0:00:01\r\u001b[K     |██████████████████████████▉     | 757kB 5.0MB/s eta 0:00:01\r\u001b[K     |███████████████████████████▏    | 768kB 5.0MB/s eta 0:00:01\r\u001b[K     |███████████████████████████▌    | 778kB 5.0MB/s eta 0:00:01\r\u001b[K     |████████████████████████████    | 788kB 5.0MB/s eta 0:00:01\r\u001b[K     |████████████████████████████▎   | 798kB 5.0MB/s eta 0:00:01\r\u001b[K     |████████████████████████████▋   | 808kB 5.0MB/s eta 0:00:01\r\u001b[K     |█████████████████████████████   | 819kB 5.0MB/s eta 0:00:01\r\u001b[K     |█████████████████████████████▍  | 829kB 5.0MB/s eta 0:00:01\r\u001b[K     |█████████████████████████████▊  | 839kB 5.0MB/s eta 0:00:01\r\u001b[K     |██████████████████████████████  | 849kB 5.0MB/s eta 0:00:01\r\u001b[K     |██████████████████████████████▍ | 860kB 5.0MB/s eta 0:00:01\r\u001b[K     |██████████████████████████████▉ | 870kB 5.0MB/s eta 0:00:01\r\u001b[K     |███████████████████████████████▏| 880kB 5.0MB/s eta 0:00:01\r\u001b[K     |███████████████████████████████▌| 890kB 5.0MB/s eta 0:00:01\r\u001b[K     |███████████████████████████████▉| 901kB 5.0MB/s eta 0:00:01\r\u001b[K     |████████████████████████████████| 911kB 5.0MB/s \n",
            "\u001b[?25hRequirement already satisfied: urllib3 in /usr/local/lib/python3.6/dist-packages (from selenium) (1.24.3)\n",
            "Installing collected packages: selenium\n",
            "Successfully installed selenium-3.141.0\n",
            "Collecting chatterbot\n",
            "\u001b[?25l  Downloading https://files.pythonhosted.org/packages/7c/21/85c2b114bd9dfabdd46ba58fc4519acdaed45d8c70898d40079e37a45e67/ChatterBot-1.0.8-py2.py3-none-any.whl (63kB)\n",
            "\u001b[K     |████████████████████████████████| 71kB 3.0MB/s \n",
            "\u001b[?25hRequirement already satisfied: pytz in /usr/local/lib/python3.6/dist-packages (from chatterbot) (2018.9)\n",
            "Requirement already satisfied: python-dateutil<2.9,>=2.8 in /usr/local/lib/python3.6/dist-packages (from chatterbot) (2.8.1)\n",
            "Collecting mathparse<0.2,>=0.1\n",
            "  Downloading https://files.pythonhosted.org/packages/c3/e5/4910fb85950cb960fcf3f5aabe1c8e55f5c9201788a1c1302b570a7e1f84/mathparse-0.1.2-py3-none-any.whl\n",
            "Requirement already satisfied: sqlalchemy<1.4,>=1.3 in /usr/local/lib/python3.6/dist-packages (from chatterbot) (1.3.20)\n",
            "Requirement already satisfied: six>=1.5 in /usr/local/lib/python3.6/dist-packages (from python-dateutil<2.9,>=2.8->chatterbot) (1.15.0)\n",
            "Installing collected packages: mathparse, chatterbot\n",
            "Successfully installed chatterbot-1.0.8 mathparse-0.1.2\n",
            "Collecting chatterbot_corpus\n",
            "\u001b[?25l  Downloading https://files.pythonhosted.org/packages/ed/19/f8b41daf36fe4b0f43e283a820362ffdb2c1128600ab4ee187e84262fa4d/chatterbot_corpus-1.2.0-py2.py3-none-any.whl (117kB)\n",
            "\u001b[K     |████████████████████████████████| 122kB 4.5MB/s \n",
            "\u001b[?25hRequirement already satisfied: PyYAML<4.0,>=3.12 in /usr/local/lib/python3.6/dist-packages (from chatterbot_corpus) (3.13)\n",
            "Installing collected packages: chatterbot-corpus\n",
            "Successfully installed chatterbot-corpus-1.2.0\n"
          ],
          "name": "stdout"
        }
      ]
    },
    {
      "cell_type": "code",
      "metadata": {
        "id": "uQPcVzw0h2kj"
      },
      "source": [
        "import time\n",
        "import os\n",
        "\n",
        "from selenium import webdriver\n",
        "from selenium.webdriver.common.keys import Keys\n",
        "from selenium.webdriver.common.action_chains import ActionChains\n",
        "from selenium.webdriver.chrome.options import Options\n",
        "\n",
        "from chatterbot import ChatBot\n",
        "from chatterbot.trainers import ChatterBotCorpusTrainer\n",
        "from chatterbot.trainers import ListTrainer"
      ],
      "execution_count": 2,
      "outputs": []
    },
    {
      "cell_type": "code",
      "metadata": {
        "id": "9-tt3Z6SUR9z",
        "outputId": "7ccfd1cc-d2d6-4901-aef1-47650719ac9e",
        "colab": {
          "base_uri": "https://localhost:8080/"
        }
      },
      "source": [
        "# instanciando o bot\n",
        "\n",
        "chatbot = ChatBot('Bot')\n",
        "trainer = ChatterBotCorpusTrainer(chatbot)\n",
        "trainer.train('chatterbot.corpus.portuguese')\n",
        "trainener = ListTrainer(chatbot)"
      ],
      "execution_count": 3,
      "outputs": [
        {
          "output_type": "stream",
          "text": [
            "Training compliment.yml: [####################] 100%\n",
            "Training conversations.yml: [####################] 100%\n",
            "Training greetings.yml: [####################] 100%\n",
            "Training linguistic_knowledge.yml: [####################] 100%\n",
            "Training proverbs.yml: [####################] 100%\n",
            "Training suggestions.yml: [####################] 100%\n",
            "Training trivia.yml: [####################] 100%\n",
            "Training unilab.yml: [####################] 100%\n"
          ],
          "name": "stdout"
        }
      ]
    },
    {
      "cell_type": "code",
      "metadata": {
        "id": "bKZYZ52KZuXS"
      },
      "source": [
        ""
      ],
      "execution_count": 3,
      "outputs": []
    }
  ]
}